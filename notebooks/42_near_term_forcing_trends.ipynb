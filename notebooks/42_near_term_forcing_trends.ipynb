{
 "cells": [
  {
   "cell_type": "markdown",
   "metadata": {},
   "source": [
    "# Near-term forcing trends\n",
    "\n",
    "We focus on the 2000-2019 period."
   ]
  },
  {
   "cell_type": "code",
   "execution_count": 1,
   "metadata": {},
   "outputs": [],
   "source": [
    "import numpy as np\n",
    "import scipy.stats as st\n",
    "import matplotlib.pyplot as pl\n",
    "import wquantiles\n",
    "from matplotlib import rc\n",
    "\n",
    "import h5py"
   ]
  },
  {
   "cell_type": "code",
   "execution_count": 2,
   "metadata": {},
   "outputs": [],
   "source": [
    "def save_dict_to_hdf5(dic, filename):\n",
    "    \"\"\"\n",
    "    ....\n",
    "    \"\"\"\n",
    "    with h5py.File(filename, 'w') as h5file:\n",
    "        recursively_save_dict_contents_to_group(h5file, '/', dic)\n",
    "\n",
    "def recursively_save_dict_contents_to_group(h5file, path, dic):\n",
    "    \"\"\"\n",
    "    ....\n",
    "    \"\"\"\n",
    "    for key, item in dic.items():\n",
    "        if isinstance(item, (np.ndarray, np.int64, np.float64, str, bytes)):\n",
    "            h5file[path + key] = item\n",
    "        elif isinstance(item, dict):\n",
    "            recursively_save_dict_contents_to_group(h5file, path + key + '/', item)\n",
    "        else:\n",
    "            raise ValueError('Cannot save %s type'%type(item))\n",
    "\n",
    "def load_dict_from_hdf5(filename):\n",
    "    \"\"\"\n",
    "    ....\n",
    "    \"\"\"\n",
    "    with h5py.File(filename, 'r') as h5file:\n",
    "        return recursively_load_dict_contents_from_group(h5file, '/')\n",
    "\n",
    "def recursively_load_dict_contents_from_group(h5file, path):\n",
    "    \"\"\"\n",
    "    ....\n",
    "    \"\"\"\n",
    "    ans = {}\n",
    "    for key, item in h5file[path].items():\n",
    "        if isinstance(item, h5py._hl.dataset.Dataset):\n",
    "            ans[key] = item[()]\n",
    "        elif isinstance(item, h5py._hl.group.Group):\n",
    "            ans[key] = recursively_load_dict_contents_from_group(h5file, path + key + '/')\n",
    "    return ans"
   ]
  },
  {
   "cell_type": "code",
   "execution_count": 3,
   "metadata": {},
   "outputs": [],
   "source": [
    "colors = {\n",
    "    'CMIP6-constrained' : '0.3',\n",
    "}\n",
    "\n",
    "ls = {\n",
    "    'CMIP6-constrained'  : '-',\n",
    "}"
   ]
  },
  {
   "cell_type": "code",
   "execution_count": 4,
   "metadata": {},
   "outputs": [],
   "source": [
    "pl.rcParams['figure.figsize'] = (12/2.54, 12/2.54)\n",
    "pl.rcParams['font.size'] = 8\n",
    "pl.rcParams['font.family'] = 'Arial'\n",
    "pl.rcParams['xtick.direction'] = 'out'\n",
    "pl.rcParams['xtick.minor.visible'] = True\n",
    "pl.rcParams['ytick.minor.visible'] = True\n",
    "pl.rcParams['ytick.right'] = True\n",
    "pl.rcParams['xtick.top'] = True\n",
    "pl.rcParams['figure.dpi'] = 96"
   ]
  },
  {
   "cell_type": "code",
   "execution_count": 5,
   "metadata": {},
   "outputs": [],
   "source": [
    "# load large datafiles calculated previously\n",
    "ERFari = load_dict_from_hdf5('../data_output/results/ERFari.h5')\n",
    "ERFaci = load_dict_from_hdf5('../data_output/results/ERFaci.h5')\n",
    "temp   = load_dict_from_hdf5('../data_output/results/temp.h5')\n",
    "ks     = load_dict_from_hdf5('../data_output/results/knutti_score.h5')\n",
    "ohc    = load_dict_from_hdf5('../data_output/results/ohc.h5')\n",
    "hflux  = load_dict_from_hdf5('../data_output/results/hflux.h5')"
   ]
  },
  {
   "cell_type": "code",
   "execution_count": 6,
   "metadata": {},
   "outputs": [],
   "source": [
    "expts = ['CMIP6-constrained']"
   ]
  },
  {
   "cell_type": "code",
   "execution_count": 7,
   "metadata": {},
   "outputs": [],
   "source": [
    "t90 = st.t.ppf(0.95, df=19)"
   ]
  },
  {
   "cell_type": "code",
   "execution_count": 8,
   "metadata": {},
   "outputs": [],
   "source": [
    "def weighted_percentile(a, w, q):\n",
    "    if isinstance(q, (list, tuple, np.ndarray)):\n",
    "        result = []\n",
    "        for iq in q:\n",
    "            result.append(wquantiles.quantile(a, w, iq))\n",
    "    else:\n",
    "        result = wquantiles.quantile(a, w, q)\n",
    "    return result"
   ]
  },
  {
   "cell_type": "code",
   "execution_count": 9,
   "metadata": {},
   "outputs": [],
   "source": [
    "samples = 100000"
   ]
  },
  {
   "cell_type": "code",
   "execution_count": 10,
   "metadata": {},
   "outputs": [],
   "source": [
    "slopes = np.zeros(samples)\n",
    "for i in range(samples):\n",
    "    sl, _,_,_,_ = st.linregress(np.arange(20), ERFari['CMIP6-constrained'][250:270,i]+ERFaci['CMIP6-constrained'][250:270,i])\n",
    "    slopes[i] = sl"
   ]
  },
  {
   "cell_type": "code",
   "execution_count": 11,
   "metadata": {},
   "outputs": [
    {
     "data": {
      "image/png": "[encoded data removed]",
      "text/plain": [
       "<Figure size 718.11x351.496 with 1 Axes>"
      ]
     },
     "metadata": {
      "needs_background": "light"
     },
     "output_type": "display_data"
    }
   ],
   "source": [
    "pl.figure(figsize=(19/2.54,9.3/2.54))\n",
    "pl.hist(slopes * 10, weights=ks['multi']['CMIP6-constrained'], bins=np.arange(-0.6,0.76,0.02), density=True, color=colors['CMIP6-constrained'], lw=2, label='CMIP6-constrained', histtype='step');\n",
    "pl.hist(slopes * 10, bins=np.arange(-0.6,0.76,0.02), density=True, color='k', label='unconstrained', histtype='step');\n",
    "\n",
    "pl.plot(np.sum(slopes * 10 * ks['multi']['CMIP6-constrained']), 12, '|', color=colors['CMIP6-constrained'])\n",
    "#pl.plot(weighted_percentile(slopes * 10, ks['multi']['CMIP6-constrained'], .50), 12, '|', color=colors['CMIP6-constrained'])\n",
    "pl.errorbar(\n",
    "    weighted_percentile(slopes * 10, ks['multi']['CMIP6-constrained'], .50),\n",
    "    12,\n",
    "    xerr=np.array([\n",
    "        weighted_percentile(slopes * 10, ks['multi']['CMIP6-constrained'], .50) - weighted_percentile(slopes * 10, ks['multi']['CMIP6-constrained'], .05),\n",
    "        weighted_percentile(slopes * 10, ks['multi']['CMIP6-constrained'], .95) - weighted_percentile(slopes * 10, ks['multi']['CMIP6-constrained'], .50)\n",
    "    ]).reshape((1,2)).T,\n",
    "    capsize=3, color=colors['CMIP6-constrained']\n",
    ")\n",
    "pl.text(0.40, 12, 'CMIP6-constrained', color=colors['CMIP6-constrained'], ha='right', va='center')\n",
    "pl.plot(np.mean(slopes * 10), 11, '|', color='k')\n",
    "#pl.plot(np.percentile(slopes * 10, 50), 11, '|', color='k')\n",
    "pl.errorbar(\n",
    "    np.percentile(slopes * 10, 50),\n",
    "    11,\n",
    "    xerr=np.array([\n",
    "        np.percentile(slopes * 10, 50) - np.percentile(slopes * 10, 5),\n",
    "        np.percentile(slopes * 10, 95) - np.percentile(slopes * 10, 50)\n",
    "    ]).reshape((1,2)).T,\n",
    "    capsize=3, color='k'\n",
    ")\n",
    "pl.text(0.335, 10.4, 'Unconstrained', color='k', ha='right', va='center')\n",
    "pl.title('Aerosol forcing trend, 2000-2019')\n",
    "pl.xlabel('W m$^{-2}$ decade$^{-1}$')\n",
    "pl.ylabel('Density')\n",
    "pl.yticks([])\n",
    "pl.axvline(0, ls=':', color='k', lw=2)\n",
    "pl.legend(frameon=False, loc='lower right', bbox_to_anchor=[1, 0.27]);\n",
    "pl.xlim(-0.12,0.7)\n",
    "pl.tight_layout();\n",
    "pl.savefig('../figures/figure7_2000-2019.png')\n",
    "pl.savefig('../figures/figure7_2000-2019.pdf')"
   ]
  },
  {
   "cell_type": "code",
   "execution_count": 12,
   "metadata": {},
   "outputs": [
    {
     "name": "stdout",
     "output_type": "stream",
     "text": [
      "[-0.034226072220599126, 0.2736756006889424] 0.11429911128697476\n",
      "[-0.04930542  0.62084684] 0.2403688119960853\n"
     ]
    }
   ],
   "source": [
    "print(weighted_percentile(slopes * 10, ks['multi']['CMIP6-constrained'], [.05,.95]), np.sum(slopes * 10 * ks['multi']['CMIP6-constrained']))\n",
    "print(np.percentile(slopes*10, (5,95)), np.mean(slopes*10))"
   ]
  },
  {
   "cell_type": "code",
   "execution_count": null,
   "metadata": {},
   "outputs": [],
   "source": []
  }
 ],
 "metadata": {
  "kernelspec": {
   "display_name": "Python 3 (ipykernel)",
   "language": "python",
   "name": "python3"
  },
  "language_info": {
   "codemirror_mode": {
    "name": "ipython",
    "version": 3
   },
   "file_extension": ".py",
   "mimetype": "text/x-python",
   "name": "python",
   "nbconvert_exporter": "python",
   "pygments_lexer": "ipython3",
   "version": "3.7.11"
  }
 },
 "nbformat": 4,
 "nbformat_minor": 2
}
