{
 "cells": [
  {
   "cell_type": "code",
   "execution_count": 1,
   "metadata": {},
   "outputs": [],
   "source": [
    "import errno\n",
    "import numpy as np\n",
    "from netCDF4 import Dataset\n",
    "import matplotlib.pyplot as pl\n",
    "import sys\n",
    "import pandas as pd\n",
    "import os\n",
    "import urllib\n",
    "from scipy.stats import linregress\n",
    "from tqdm import tqdm"
   ]
  },
  {
   "cell_type": "code",
   "execution_count": 2,
   "metadata": {},
   "outputs": [],
   "source": [
    "pl.rcParams['figure.figsize'] = (16/2.54, 16/2.54)\n",
    "pl.rcParams['font.size'] = 11\n",
    "pl.rcParams['font.family'] = 'Arial'\n",
    "pl.rcParams['xtick.direction'] = 'out'\n",
    "pl.rcParams['xtick.minor.visible'] = True\n",
    "pl.rcParams['ytick.minor.visible'] = True\n",
    "pl.rcParams['ytick.right'] = True\n",
    "pl.rcParams['xtick.top'] = True\n",
    "pl.rcParams['figure.dpi'] = 96"
   ]
  },
  {
   "cell_type": "code",
   "execution_count": 3,
   "metadata": {},
   "outputs": [],
   "source": [
    "class _DownloadProgressBar(tqdm):\n",
    "    def update_to(self, blocks=1, blocksize=1, totalsize=None):\n",
    "        \"\"\"Update download progress bar.\n",
    "        Parameters\n",
    "        ----------\n",
    "            blocks : int, optional\n",
    "                Number of blocks transferred so far [default: 1].\n",
    "            blocksize : int, optional\n",
    "                Size of each block (in tqdm units) [default: 1].\n",
    "            totalsize : int, optional\n",
    "                Total size (in tqdm units). If [default: None] remains unchanged.\n",
    "        \"\"\"\n",
    "        if totalsize is not None:\n",
    "            self.total = totalsize\n",
    "        self.update(blocks * blocksize - self.n)\n",
    "\n",
    "\n",
    "def check_and_download(url, filepath, clobber=False):\n",
    "    \"\"\"Check prescence of a file and downloads if not present.\n",
    "    Parameters\n",
    "    ----------\n",
    "        url : str\n",
    "            url to download from\n",
    "        filepath : str\n",
    "            filename to download to\n",
    "        clobber : bool, default=False\n",
    "            False if download should not overwrite existing file, True if it should\n",
    "    \"\"\"\n",
    "    if clobber or not os.path.isfile(filepath):\n",
    "        with _DownloadProgressBar(\n",
    "            unit=\"B\", unit_scale=True, miniters=1, desc=url.split(\"/\")[-1]\n",
    "        ) as progress:\n",
    "            urllib.request.urlretrieve(\n",
    "                url, filename=filepath, reporthook=progress.update_to\n",
    "            )\n",
    "\n",
    "def mkdir_p(path):\n",
    "    \"\"\"Check to see if directory exists, and if not, create it.\n",
    "    Parameters\n",
    "    ----------\n",
    "        path : str\n",
    "            directory to create\n",
    "    Raises\n",
    "    ------\n",
    "        OSError:\n",
    "            if directory cannot be created\n",
    "    \"\"\"\n",
    "    try:\n",
    "        os.makedirs(path)\n",
    "    except OSError as exc:\n",
    "        if exc.errno == errno.EEXIST and os.path.isdir(path):\n",
    "            pass\n",
    "        else:\n",
    "            raise"
   ]
  },
  {
   "cell_type": "code",
   "execution_count": 4,
   "metadata": {},
   "outputs": [
    {
     "name": "stderr",
     "output_type": "stream",
     "text": [
      "solarforcing-ref-mon_input4MIPs_solar_CMIP_SOLARIS-HEPPA-3-2_gn_185001-229912.nc                     \n"
     ]
    },
    {
     "ename": "KeyboardInterrupt",
     "evalue": "",
     "output_type": "error",
     "traceback": [
      "\u001b[0;31m---------------------------------------------------------------------------\u001b[0m",
      "\u001b[0;31mKeyboardInterrupt\u001b[0m                         Traceback (most recent call last)",
      "\u001b[0;32m/var/folders/6q/3d6ldw_97jq9lq39ckxj292c0000gn/T/ipykernel_24602/3798977760.py\u001b[0m in \u001b[0;36m<module>\u001b[0;34m\u001b[0m\n\u001b[1;32m      1\u001b[0m \u001b[0mmkdir_p\u001b[0m\u001b[0;34m(\u001b[0m\u001b[0;34m'../data_input/input4mips/'\u001b[0m\u001b[0;34m)\u001b[0m\u001b[0;34m\u001b[0m\u001b[0;34m\u001b[0m\u001b[0m\n\u001b[0;32m----> 2\u001b[0;31m check_and_download(\n\u001b[0m\u001b[1;32m      3\u001b[0m     \u001b[0;34m'http://aims3.llnl.gov/thredds/fileServer/user_pub_work/input4MIPs/CMIP6/CMIP/SOLARIS-HEPPA/SOLARIS-HEPPA-3-2/atmos/mon/multiple/gm/v20170103/solarforcing-ref-mon_input4MIPs_solar_CMIP_SOLARIS-HEPPA-3-2_gn_185001-229912.nc'\u001b[0m\u001b[0;34m,\u001b[0m\u001b[0;34m\u001b[0m\u001b[0;34m\u001b[0m\u001b[0m\n\u001b[1;32m      4\u001b[0m     \u001b[0;34m'../data_input/input4mips/solarforcing-ref-mon_input4MIPs_solar_CMIP_SOLARIS-HEPPA-3-2_gn_185001-229912.nc'\u001b[0m\u001b[0;34m,\u001b[0m\u001b[0;34m\u001b[0m\u001b[0;34m\u001b[0m\u001b[0m\n\u001b[1;32m      5\u001b[0m     \u001b[0mclobber\u001b[0m\u001b[0;34m=\u001b[0m\u001b[0;32mTrue\u001b[0m\u001b[0;34m\u001b[0m\u001b[0;34m\u001b[0m\u001b[0m\n",
      "\u001b[0;32m/var/folders/6q/3d6ldw_97jq9lq39ckxj292c0000gn/T/ipykernel_24602/1242019780.py\u001b[0m in \u001b[0;36mcheck_and_download\u001b[0;34m(url, filepath, clobber)\u001b[0m\n\u001b[1;32m     31\u001b[0m             \u001b[0munit\u001b[0m\u001b[0;34m=\u001b[0m\u001b[0;34m\"B\"\u001b[0m\u001b[0;34m,\u001b[0m \u001b[0munit_scale\u001b[0m\u001b[0;34m=\u001b[0m\u001b[0;32mTrue\u001b[0m\u001b[0;34m,\u001b[0m \u001b[0mminiters\u001b[0m\u001b[0;34m=\u001b[0m\u001b[0;36m1\u001b[0m\u001b[0;34m,\u001b[0m \u001b[0mdesc\u001b[0m\u001b[0;34m=\u001b[0m\u001b[0murl\u001b[0m\u001b[0;34m.\u001b[0m\u001b[0msplit\u001b[0m\u001b[0;34m(\u001b[0m\u001b[0;34m\"/\"\u001b[0m\u001b[0;34m)\u001b[0m\u001b[0;34m[\u001b[0m\u001b[0;34m-\u001b[0m\u001b[0;36m1\u001b[0m\u001b[0;34m]\u001b[0m\u001b[0;34m\u001b[0m\u001b[0;34m\u001b[0m\u001b[0m\n\u001b[1;32m     32\u001b[0m         ) as progress:\n\u001b[0;32m---> 33\u001b[0;31m             urllib.request.urlretrieve(\n\u001b[0m\u001b[1;32m     34\u001b[0m                 \u001b[0murl\u001b[0m\u001b[0;34m,\u001b[0m \u001b[0mfilename\u001b[0m\u001b[0;34m=\u001b[0m\u001b[0mfilepath\u001b[0m\u001b[0;34m,\u001b[0m \u001b[0mreporthook\u001b[0m\u001b[0;34m=\u001b[0m\u001b[0mprogress\u001b[0m\u001b[0;34m.\u001b[0m\u001b[0mupdate_to\u001b[0m\u001b[0;34m\u001b[0m\u001b[0;34m\u001b[0m\u001b[0m\n\u001b[1;32m     35\u001b[0m             )\n",
      "\u001b[0;32m~/anaconda3/envs/aerosol-history/lib/python3.10/urllib/request.py\u001b[0m in \u001b[0;36murlretrieve\u001b[0;34m(url, filename, reporthook, data)\u001b[0m\n\u001b[1;32m    268\u001b[0m \u001b[0;34m\u001b[0m\u001b[0m\n\u001b[1;32m    269\u001b[0m             \u001b[0;32mwhile\u001b[0m \u001b[0;32mTrue\u001b[0m\u001b[0;34m:\u001b[0m\u001b[0;34m\u001b[0m\u001b[0;34m\u001b[0m\u001b[0m\n\u001b[0;32m--> 270\u001b[0;31m                 \u001b[0mblock\u001b[0m \u001b[0;34m=\u001b[0m \u001b[0mfp\u001b[0m\u001b[0;34m.\u001b[0m\u001b[0mread\u001b[0m\u001b[0;34m(\u001b[0m\u001b[0mbs\u001b[0m\u001b[0;34m)\u001b[0m\u001b[0;34m\u001b[0m\u001b[0;34m\u001b[0m\u001b[0m\n\u001b[0m\u001b[1;32m    271\u001b[0m                 \u001b[0;32mif\u001b[0m \u001b[0;32mnot\u001b[0m \u001b[0mblock\u001b[0m\u001b[0;34m:\u001b[0m\u001b[0;34m\u001b[0m\u001b[0;34m\u001b[0m\u001b[0m\n\u001b[1;32m    272\u001b[0m                     \u001b[0;32mbreak\u001b[0m\u001b[0;34m\u001b[0m\u001b[0;34m\u001b[0m\u001b[0m\n",
      "\u001b[0;32m~/anaconda3/envs/aerosol-history/lib/python3.10/http/client.py\u001b[0m in \u001b[0;36mread\u001b[0;34m(self, amt)\u001b[0m\n\u001b[1;32m    462\u001b[0m                 \u001b[0;31m# clip the read to the \"end of response\"\u001b[0m\u001b[0;34m\u001b[0m\u001b[0;34m\u001b[0m\u001b[0m\n\u001b[1;32m    463\u001b[0m                 \u001b[0mamt\u001b[0m \u001b[0;34m=\u001b[0m \u001b[0mself\u001b[0m\u001b[0;34m.\u001b[0m\u001b[0mlength\u001b[0m\u001b[0;34m\u001b[0m\u001b[0;34m\u001b[0m\u001b[0m\n\u001b[0;32m--> 464\u001b[0;31m             \u001b[0ms\u001b[0m \u001b[0;34m=\u001b[0m \u001b[0mself\u001b[0m\u001b[0;34m.\u001b[0m\u001b[0mfp\u001b[0m\u001b[0;34m.\u001b[0m\u001b[0mread\u001b[0m\u001b[0;34m(\u001b[0m\u001b[0mamt\u001b[0m\u001b[0;34m)\u001b[0m\u001b[0;34m\u001b[0m\u001b[0;34m\u001b[0m\u001b[0m\n\u001b[0m\u001b[1;32m    465\u001b[0m             \u001b[0;32mif\u001b[0m \u001b[0;32mnot\u001b[0m \u001b[0ms\u001b[0m \u001b[0;32mand\u001b[0m \u001b[0mamt\u001b[0m\u001b[0;34m:\u001b[0m\u001b[0;34m\u001b[0m\u001b[0;34m\u001b[0m\u001b[0m\n\u001b[1;32m    466\u001b[0m                 \u001b[0;31m# Ideally, we would raise IncompleteRead if the content-length\u001b[0m\u001b[0;34m\u001b[0m\u001b[0;34m\u001b[0m\u001b[0m\n",
      "\u001b[0;32m~/anaconda3/envs/aerosol-history/lib/python3.10/socket.py\u001b[0m in \u001b[0;36mreadinto\u001b[0;34m(self, b)\u001b[0m\n\u001b[1;32m    703\u001b[0m         \u001b[0;32mwhile\u001b[0m \u001b[0;32mTrue\u001b[0m\u001b[0;34m:\u001b[0m\u001b[0;34m\u001b[0m\u001b[0;34m\u001b[0m\u001b[0m\n\u001b[1;32m    704\u001b[0m             \u001b[0;32mtry\u001b[0m\u001b[0;34m:\u001b[0m\u001b[0;34m\u001b[0m\u001b[0;34m\u001b[0m\u001b[0m\n\u001b[0;32m--> 705\u001b[0;31m                 \u001b[0;32mreturn\u001b[0m \u001b[0mself\u001b[0m\u001b[0;34m.\u001b[0m\u001b[0m_sock\u001b[0m\u001b[0;34m.\u001b[0m\u001b[0mrecv_into\u001b[0m\u001b[0;34m(\u001b[0m\u001b[0mb\u001b[0m\u001b[0;34m)\u001b[0m\u001b[0;34m\u001b[0m\u001b[0;34m\u001b[0m\u001b[0m\n\u001b[0m\u001b[1;32m    706\u001b[0m             \u001b[0;32mexcept\u001b[0m \u001b[0mtimeout\u001b[0m\u001b[0;34m:\u001b[0m\u001b[0;34m\u001b[0m\u001b[0;34m\u001b[0m\u001b[0m\n\u001b[1;32m    707\u001b[0m                 \u001b[0mself\u001b[0m\u001b[0;34m.\u001b[0m\u001b[0m_timeout_occurred\u001b[0m \u001b[0;34m=\u001b[0m \u001b[0;32mTrue\u001b[0m\u001b[0;34m\u001b[0m\u001b[0;34m\u001b[0m\u001b[0m\n",
      "\u001b[0;32m~/anaconda3/envs/aerosol-history/lib/python3.10/ssl.py\u001b[0m in \u001b[0;36mrecv_into\u001b[0;34m(self, buffer, nbytes, flags)\u001b[0m\n\u001b[1;32m   1271\u001b[0m                   \u001b[0;34m\"non-zero flags not allowed in calls to recv_into() on %s\"\u001b[0m \u001b[0;34m%\u001b[0m\u001b[0;34m\u001b[0m\u001b[0;34m\u001b[0m\u001b[0m\n\u001b[1;32m   1272\u001b[0m                   self.__class__)\n\u001b[0;32m-> 1273\u001b[0;31m             \u001b[0;32mreturn\u001b[0m \u001b[0mself\u001b[0m\u001b[0;34m.\u001b[0m\u001b[0mread\u001b[0m\u001b[0;34m(\u001b[0m\u001b[0mnbytes\u001b[0m\u001b[0;34m,\u001b[0m \u001b[0mbuffer\u001b[0m\u001b[0;34m)\u001b[0m\u001b[0;34m\u001b[0m\u001b[0;34m\u001b[0m\u001b[0m\n\u001b[0m\u001b[1;32m   1274\u001b[0m         \u001b[0;32melse\u001b[0m\u001b[0;34m:\u001b[0m\u001b[0;34m\u001b[0m\u001b[0;34m\u001b[0m\u001b[0m\n\u001b[1;32m   1275\u001b[0m             \u001b[0;32mreturn\u001b[0m \u001b[0msuper\u001b[0m\u001b[0;34m(\u001b[0m\u001b[0;34m)\u001b[0m\u001b[0;34m.\u001b[0m\u001b[0mrecv_into\u001b[0m\u001b[0;34m(\u001b[0m\u001b[0mbuffer\u001b[0m\u001b[0;34m,\u001b[0m \u001b[0mnbytes\u001b[0m\u001b[0;34m,\u001b[0m \u001b[0mflags\u001b[0m\u001b[0;34m)\u001b[0m\u001b[0;34m\u001b[0m\u001b[0;34m\u001b[0m\u001b[0m\n",
      "\u001b[0;32m~/anaconda3/envs/aerosol-history/lib/python3.10/ssl.py\u001b[0m in \u001b[0;36mread\u001b[0;34m(self, len, buffer)\u001b[0m\n\u001b[1;32m   1127\u001b[0m         \u001b[0;32mtry\u001b[0m\u001b[0;34m:\u001b[0m\u001b[0;34m\u001b[0m\u001b[0;34m\u001b[0m\u001b[0m\n\u001b[1;32m   1128\u001b[0m             \u001b[0;32mif\u001b[0m \u001b[0mbuffer\u001b[0m \u001b[0;32mis\u001b[0m \u001b[0;32mnot\u001b[0m \u001b[0;32mNone\u001b[0m\u001b[0;34m:\u001b[0m\u001b[0;34m\u001b[0m\u001b[0;34m\u001b[0m\u001b[0m\n\u001b[0;32m-> 1129\u001b[0;31m                 \u001b[0;32mreturn\u001b[0m \u001b[0mself\u001b[0m\u001b[0;34m.\u001b[0m\u001b[0m_sslobj\u001b[0m\u001b[0;34m.\u001b[0m\u001b[0mread\u001b[0m\u001b[0;34m(\u001b[0m\u001b[0mlen\u001b[0m\u001b[0;34m,\u001b[0m \u001b[0mbuffer\u001b[0m\u001b[0;34m)\u001b[0m\u001b[0;34m\u001b[0m\u001b[0;34m\u001b[0m\u001b[0m\n\u001b[0m\u001b[1;32m   1130\u001b[0m             \u001b[0;32melse\u001b[0m\u001b[0;34m:\u001b[0m\u001b[0;34m\u001b[0m\u001b[0;34m\u001b[0m\u001b[0m\n\u001b[1;32m   1131\u001b[0m                 \u001b[0;32mreturn\u001b[0m \u001b[0mself\u001b[0m\u001b[0;34m.\u001b[0m\u001b[0m_sslobj\u001b[0m\u001b[0;34m.\u001b[0m\u001b[0mread\u001b[0m\u001b[0;34m(\u001b[0m\u001b[0mlen\u001b[0m\u001b[0;34m)\u001b[0m\u001b[0;34m\u001b[0m\u001b[0;34m\u001b[0m\u001b[0m\n",
      "\u001b[0;31mKeyboardInterrupt\u001b[0m: "
     ]
    }
   ],
   "source": [
    "mkdir_p('../data_input/input4mips/')\n",
    "check_and_download(\n",
    "    'http://aims3.llnl.gov/thredds/fileServer/user_pub_work/input4MIPs/CMIP6/CMIP/SOLARIS-HEPPA/SOLARIS-HEPPA-3-2/atmos/mon/multiple/gm/v20170103/solarforcing-ref-mon_input4MIPs_solar_CMIP_SOLARIS-HEPPA-3-2_gn_185001-229912.nc',\n",
    "    '../data_input/input4mips/solarforcing-ref-mon_input4MIPs_solar_CMIP_SOLARIS-HEPPA-3-2_gn_185001-229912.nc',\n",
    "    clobber=True\n",
    ")"
   ]
  },
  {
   "cell_type": "code",
   "execution_count": null,
   "metadata": {},
   "outputs": [],
   "source": [
    "nc_future = Dataset('../data_input/input4mips/solarforcing-ref-mon_input4MIPs_solar_CMIP_SOLARIS-HEPPA-3-2_gn_185001-229912.nc')\n",
    "tsi_future = nc_future.variables['tsi'][:(251*12)]\n",
    "nc_future.close()"
   ]
  },
  {
   "cell_type": "code",
   "execution_count": null,
   "metadata": {},
   "outputs": [],
   "source": [
    "years = np.arange(1850, 2101, dtype=int)\n",
    "isleap = np.zeros(251)\n",
    "isleap[np.logical_and(years%4==0, np.logical_or(years%100!=0, years%400==0))] = 1"
   ]
  },
  {
   "cell_type": "code",
   "execution_count": null,
   "metadata": {},
   "outputs": [],
   "source": [
    "tsi = np.zeros(251)\n",
    "for i, year in enumerate(years):\n",
    "    weights = [31,28+isleap[i],31,30,31,30,31,31,30,31,30,31]\n",
    "    tsi[i] = np.average(tsi_future[(i)*12:(1+i)*12], weights=weights)"
   ]
  },
  {
   "cell_type": "code",
   "execution_count": null,
   "metadata": {},
   "outputs": [],
   "source": [
    "tsi_baseline = np.mean(tsi[:24])\n",
    "tsi_baseline"
   ]
  },
  {
   "cell_type": "code",
   "execution_count": null,
   "metadata": {},
   "outputs": [],
   "source": [
    "pl.plot(np.arange(1850, 2101), tsi)\n",
    "pl.axhline(tsi_baseline, ls=':', color='k')"
   ]
  },
  {
   "cell_type": "code",
   "execution_count": null,
   "metadata": {},
   "outputs": [],
   "source": [
    "solar_erf = 0.25 * (tsi-tsi_baseline) * 0.71 * 0.72  # include RA\n",
    "pl.plot(np.arange(1850, 2101), solar_erf)\n",
    "pl.axhline(0, ls=':', color='k')"
   ]
  },
  {
   "cell_type": "code",
   "execution_count": null,
   "metadata": {},
   "outputs": [],
   "source": [
    "# pre-processed RFMIP-histnat runs. Method pretty similar to notebook that does the ERF for aerosols\n",
    "rfmip_tier2 = pd.read_csv('../data_input/RFMIP-ERF-tier2.csv', index_col=0)\n",
    "natural = rfmip_tier2[['CanESM5 NAT', 'GFDL-CM4 NAT', 'GISS-E2-1-G NAT', 'HadGEM3-GC31-LL NAT', 'IPSL-CM6A-LR NAT', 'MIROC6 NAT', 'NorESM2-LM NAT']]\n",
    "natural"
   ]
  },
  {
   "cell_type": "code",
   "execution_count": null,
   "metadata": {},
   "outputs": [],
   "source": [
    "natural.loc[1850:2015].mean().mean()"
   ]
  },
  {
   "cell_type": "code",
   "execution_count": null,
   "metadata": {},
   "outputs": [],
   "source": [
    "np.mean(solar_erf[:165])"
   ]
  },
  {
   "cell_type": "code",
   "execution_count": null,
   "metadata": {},
   "outputs": [],
   "source": [
    "pl.plot(natural)\n",
    "pl.axhline(0, ls=':', color='k')"
   ]
  },
  {
   "cell_type": "code",
   "execution_count": null,
   "metadata": {},
   "outputs": [],
   "source": [
    "pl.plot(natural.mean(axis=1) - solar_erf)\n",
    "pl.axhline(0, ls=':', color='k')"
   ]
  },
  {
   "cell_type": "code",
   "execution_count": null,
   "metadata": {},
   "outputs": [],
   "source": [
    "volc = natural - solar_erf[:,None]\n",
    "volc"
   ]
  },
  {
   "cell_type": "code",
   "execution_count": null,
   "metadata": {},
   "outputs": [],
   "source": [
    "pl.plot(volc)"
   ]
  },
  {
   "cell_type": "code",
   "execution_count": null,
   "metadata": {},
   "outputs": [],
   "source": [
    "volc.loc[1992,:]"
   ]
  },
  {
   "cell_type": "code",
   "execution_count": null,
   "metadata": {},
   "outputs": [],
   "source": [
    "# This dataset is processed from the Toohey and Sigl / CMIP6 / GloSSAC data - see supplement for info\n",
    "# full crunching notebook will be released with AR6 :)\n",
    "saod = pd.read_csv(\"../data_input/volcanic_sAOD_monthly_-50001-201912.csv\", index_col=0)"
   ]
  },
  {
   "cell_type": "code",
   "execution_count": null,
   "metadata": {},
   "outputs": [],
   "source": [
    "saod_annual = np.zeros(165)\n",
    "for year in range(1850,2015):\n",
    "    saod_annual[year-1850] = saod.loc[year:year+1,:].mean()\n",
    "saod_annual = pd.DataFrame(\n",
    "    {\n",
    "        'year' : np.arange(1850,2015,dtype=int),\n",
    "        'sAOD' : saod_annual\n",
    "    }\n",
    ")\n",
    "saod_annual.set_index('year',inplace=True)\n",
    "saod_annual"
   ]
  },
  {
   "cell_type": "code",
   "execution_count": null,
   "metadata": {},
   "outputs": [],
   "source": [
    "saod_annual.mean()"
   ]
  },
  {
   "cell_type": "code",
   "execution_count": null,
   "metadata": {},
   "outputs": [],
   "source": [
    "volc_saod = volc.join(saod_annual-saod_annual.mean())"
   ]
  },
  {
   "cell_type": "code",
   "execution_count": null,
   "metadata": {},
   "outputs": [],
   "source": [
    "volc_saod"
   ]
  },
  {
   "cell_type": "code",
   "execution_count": null,
   "metadata": {},
   "outputs": [],
   "source": [
    "sl, ic, _,_,_ = linregress(volc_saod.loc[:2014,'sAOD'].values, volc_saod.loc[:2014,'CanESM5 NAT'].values)"
   ]
  },
  {
   "cell_type": "code",
   "execution_count": null,
   "metadata": {},
   "outputs": [],
   "source": [
    "sl"
   ]
  },
  {
   "cell_type": "code",
   "execution_count": null,
   "metadata": {},
   "outputs": [],
   "source": [
    "pl.scatter(volc_saod.loc[:2014,'sAOD'].values, volc_saod.loc[:2014,'CanESM5 NAT'].values)\n",
    "sl, ic, _,_,_ = linregress(volc_saod.loc[:2014,'sAOD'].values, volc_saod.loc[:2014,'CanESM5 NAT'].values)\n",
    "pl.plot(np.linspace(0,0.12,100), sl*np.linspace(0,0.12,100)+ic)\n",
    "sl"
   ]
  },
  {
   "cell_type": "code",
   "execution_count": null,
   "metadata": {},
   "outputs": [],
   "source": [
    "pl.scatter(volc_saod.loc[:2014,'sAOD'].values, volc_saod.loc[:2014,'GFDL-CM4 NAT'].values)\n",
    "sl, ic, _,_,_ = linregress(volc_saod.loc[:2014,'sAOD'].values, volc_saod.loc[:2014,'GFDL-CM4 NAT'].values)\n",
    "pl.plot(np.linspace(0,0.12,100), sl*np.linspace(0,0.12,100)+ic)\n",
    "sl"
   ]
  },
  {
   "cell_type": "code",
   "execution_count": null,
   "metadata": {},
   "outputs": [],
   "source": [
    "pl.scatter(volc_saod.loc[:2014,'sAOD'].values, volc_saod.loc[:2014,'GISS-E2-1-G NAT'].values)\n",
    "sl, ic, _,_,_ = linregress(volc_saod.loc[:2014,'sAOD'].values, volc_saod.loc[:2014,'GISS-E2-1-G NAT'].values)\n",
    "pl.plot(np.linspace(0,0.12,100), sl*np.linspace(0,0.12,100)+ic)\n",
    "sl"
   ]
  },
  {
   "cell_type": "code",
   "execution_count": null,
   "metadata": {},
   "outputs": [],
   "source": [
    "pl.scatter(volc_saod.loc[:2014,'sAOD'].values, volc_saod.loc[:2014,'HadGEM3-GC31-LL NAT'].values)\n",
    "sl, ic, _,_,_ = linregress(volc_saod.loc[:2014,'sAOD'].values, volc_saod.loc[:2014,'HadGEM3-GC31-LL NAT'].values)\n",
    "pl.plot(np.linspace(0,0.12,100), sl*np.linspace(0,0.12,100)+ic)\n",
    "sl"
   ]
  },
  {
   "cell_type": "code",
   "execution_count": null,
   "metadata": {},
   "outputs": [],
   "source": [
    "pl.scatter(volc_saod.loc[:2014,'sAOD'].values, volc_saod.loc[:2014,'HadGEM3-GC31-LL NAT'].values)\n",
    "sl, ic, _,_,_ = linregress(volc_saod.loc[:2014,'sAOD'].values, volc_saod.loc[:2014,'HadGEM3-GC31-LL NAT'].values)\n",
    "pl.plot(np.linspace(0,0.12,100), sl*np.linspace(0,0.12,100)+ic)\n",
    "sl"
   ]
  },
  {
   "cell_type": "code",
   "execution_count": null,
   "metadata": {},
   "outputs": [],
   "source": [
    "pl.scatter(volc_saod.loc[:2014,'sAOD'].values, volc_saod.loc[:2014,'IPSL-CM6A-LR NAT'].values)\n",
    "sl, ic, _,_,_ = linregress(volc_saod.loc[:2014,'sAOD'].values, volc_saod.loc[:2014,'IPSL-CM6A-LR NAT'].values)\n",
    "pl.plot(np.linspace(0,0.12,100), sl*np.linspace(0,0.12,100)+ic)\n",
    "sl"
   ]
  },
  {
   "cell_type": "code",
   "execution_count": null,
   "metadata": {},
   "outputs": [],
   "source": [
    "pl.scatter(volc_saod.loc[:2014,'sAOD'].values, volc_saod.loc[:2014,'MIROC6 NAT'].values)\n",
    "sl, ic, _,_,_ = linregress(volc_saod.loc[:2014,'sAOD'].values, volc_saod.loc[:2014,'MIROC6 NAT'].values)\n",
    "pl.plot(np.linspace(0,0.12,100), sl*np.linspace(0,0.12,100)+ic)\n",
    "sl"
   ]
  },
  {
   "cell_type": "code",
   "execution_count": null,
   "metadata": {},
   "outputs": [],
   "source": [
    "pl.scatter(volc_saod.loc[:2014,'sAOD'].values, volc_saod.loc[:2014,'NorESM2-LM NAT'].values)\n",
    "sl, ic, _,_,_ = linregress(volc_saod.loc[:2014,'sAOD'].values, volc_saod.loc[:2014,'NorESM2-LM NAT'].values)\n",
    "pl.plot(np.linspace(0,0.12,100), sl*np.linspace(0,0.12,100)+ic)\n",
    "sl"
   ]
  },
  {
   "cell_type": "code",
   "execution_count": null,
   "metadata": {},
   "outputs": [],
   "source": [
    "#pl.rcParams['font.size']=16\n",
    "#fig, ax=pl.subplots(figsize=(9, 9))\n",
    "fig, ax=pl.subplots(figsize=(16/2.54, 16/2.54))\n",
    "slope = np.zeros(7)\n",
    "colors = {\n",
    "    'CanESM5'        : 'red',#'#1e4c24',\n",
    "    'E3SM'           : 'darkorange',\n",
    "    'GFDL-ESM4'      : 'yellowgreen', \n",
    "    'GFDL-CM4'       : 'yellow',#'green',\n",
    "    'GISS-E2-1-G'    : 'green',#'#771d7b',\n",
    "    'HadGEM3-GC31-LL': 'turquoise',\n",
    "    'IPSL-CM6A-LR'   : 'teal',\n",
    "    'MIROC6'         : 'blue',#b85fb7',\n",
    "    'MRI-ESM2-0'     : 'blueviolet',\n",
    "    'NorESM2-LM'     : 'purple',#'red',\n",
    "    'UKESM1-0-LL'    : 'crimson',\n",
    "}\n",
    "slope = {}\n",
    "for model in ['CanESM5', 'GFDL-CM4', 'GISS-E2-1-G', 'HadGEM3-GC31-LL', 'IPSL-CM6A-LR', 'MIROC6', 'NorESM2-LM']:\n",
    "    ax.scatter(volc_saod.loc[:2014,'sAOD'].values, volc_saod.loc[:2014,'%s NAT' % model].values, color=colors[model], alpha=0.3)\n",
    "    slope[model], ic, _,_,_ = linregress(volc_saod.loc[:2014,'sAOD'].values, volc_saod.loc[:2014,'%s NAT' % model].values)\n",
    "    ax.plot(np.linspace(0,0.12,100), slope[model]*np.linspace(0,0.12,100)+ic, color=colors[model], label=r'%s $%4.1f \\tau$' % (model, slope[model]))\n",
    "ax.legend()\n",
    "ax.set_ylabel('Volcanic effective radiative forcing, W m$^{-2}$')\n",
    "ax.set_xlabel('Stratospheric aerosol optical depth anomaly w.r.t. 1850-2014 mean')\n",
    "ax.set_title('Volcanic forcing in RFMIP piClim-histnat')\n",
    "ax.axhline(0, color='k', ls=':')\n",
    "ax.axvline(0, color='k', ls=':')\n",
    "pl.tight_layout()\n",
    "pl.savefig('../figures/figureS8.png', dpi=300)\n",
    "pl.savefig('../figures/figureS8.pdf')"
   ]
  },
  {
   "cell_type": "code",
   "execution_count": null,
   "metadata": {},
   "outputs": [],
   "source": [
    "slope"
   ]
  },
  {
   "cell_type": "code",
   "execution_count": null,
   "metadata": {},
   "outputs": [],
   "source": [
    "dummy = np.zeros(7)\n",
    "for i, value in enumerate(slope.values()):\n",
    "    dummy[i]=value\n",
    "    \n",
    "dummy.mean()"
   ]
  },
  {
   "cell_type": "code",
   "execution_count": null,
   "metadata": {},
   "outputs": [],
   "source": []
  }
 ],
 "metadata": {
  "kernelspec": {
   "display_name": "Python 3 (ipykernel)",
   "language": "python",
   "name": "python3"
  },
  "language_info": {
   "codemirror_mode": {
    "name": "ipython",
    "version": 3
   },
   "file_extension": ".py",
   "mimetype": "text/x-python",
   "name": "python",
   "nbconvert_exporter": "python",
   "pygments_lexer": "ipython3",
   "version": "3.10.0"
  }
 },
 "nbformat": 4,
 "nbformat_minor": 4
}
